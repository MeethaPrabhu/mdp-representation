{
  "nbformat": 4,
  "nbformat_minor": 0,
  "metadata": {
    "colab": {
      "provenance": []
    },
    "kernelspec": {
      "name": "python3",
      "display_name": "Python 3"
    },
    "language_info": {
      "name": "python"
    }
  },
  "cells": [
    {
      "cell_type": "code",
      "source": [
        "solver_mdp = {\n",
        "    # State 0: Top-left corner (0,0)\n",
        "    0: {\n",
        "        1: [(0.9, 1, -1, False), (0.1, 0, -1, False)],  # Right action: 90% move to (0,1), 10% stay in (0,0)\n",
        "        2: [(0.9, 3, -1, False), (0.1, 0, -1, False)],  # Down action: 90% move to (1,0), 10% stay in (0,0)\n",
        "    },\n",
        "    # State 1: Top-middle (0,1)\n",
        "    1: {\n",
        "        0: [(0.9, 0, -1, False), (0.1, 1, -1, False)],  # Left action: 90% move to (0,0), 10% stay in (0,1)\n",
        "        1: [(0.9, 2, -1, False), (0.1, 1, -1, False)],  # Right action: 90% move to (0,2), 10% stay in (0,1)\n",
        "        2: [(0.9, 4, -1, False), (0.1, 1, -1, False)],  # Down action: 90% move to (1,1), 10% stay in (0,1)\n",
        "    },\n",
        "    # State 2: Top-right corner (0,2)\n",
        "    2: {\n",
        "        0: [(0.9, 1, -1, False), (0.1, 2, -1, False)],  # Left action: 90% move to (0,1), 10% stay in (0,2)\n",
        "        2: [(0.9, 5, -1, False), (0.1, 2, -1, False)],  # Down action: 90% move to (1,2), 10% stay in (0,2)\n",
        "    },\n",
        "    # State 3: Middle-left (1,0)\n",
        "    3: {\n",
        "        1: [(0.9, 4, -1, False), (0.1, 3, -1, False)],  # Right action: 90% move to (1,1), 10% stay in (1,0)\n",
        "        2: [(0.9, 6, -1, False), (0.1, 3, -1, False)],  # Down action: 90% move to (2,0), 10% stay in (1,0)\n",
        "        3: [(0.9, 0, -1, False), (0.1, 3, -1, False)],  # Up action: 90% move to (0,0), 10% stay in (1,0)\n",
        "    },\n",
        "    # State 4: Center (1,1)\n",
        "    4: {\n",
        "        0: [(0.9, 3, -1, False), (0.1, 4, -1, False)],  # Left action: 90% move to (1,0), 10% stay in (1,1)\n",
        "        1: [(0.9, 5, -1, False), (0.1, 4, -1, False)],  # Right action: 90% move to (1,2), 10% stay in (1,1)\n",
        "        2: [(0.9, 7, -1, False), (0.1, 4, -1, False)],  # Down action: 90% move to (2,1), 10% stay in (1,1)\n",
        "        3: [(0.9, 1, -1, False), (0.1, 4, -1, False)],  # Up action: 90% move to (0,1), 10% stay in (1,1)\n",
        "    },\n",
        "    # State 5: Middle-right (1,2)\n",
        "    5: {\n",
        "        0: [(0.9, 4, -1, False), (0.1, 5, -1, False)],  # Left action: 90% move to (1,1), 10% stay in (1,2)\n",
        "        2: [(0.9, 8, 100, True), (0.1, 5, -1, False)],  # Down action: 90% move to (2,2) (goal), 10% stay in (1,2)\n",
        "        3: [(0.9, 2, -1, False), (0.1, 5, -1, False)],  # Up action: 90% move to (0,2), 10% stay in (1,2)\n",
        "    },\n",
        "    # State 6: Bottom-left (2,0)\n",
        "    6: {\n",
        "        1: [(0.9, 7, -1, False), (0.1, 6, -1, False)],  # Right action: 90% move to (2,1), 10% stay in (2,0)\n",
        "        3: [(0.9, 3, -1, False), (0.1, 6, -1, False)],  # Up action: 90% move to (1,0), 10% stay in (2,0)\n",
        "    },\n",
        "    # State 7: Bottom-middle (2,1)\n",
        "    7: {\n",
        "        0: [(0.9, 6, -1, False), (0.1, 7, -1, False)],  # Left action: 90% move to (2,0), 10% stay in (2,1)\n",
        "        1: [(0.9, 8, 100, True), (0.1, 7, -1, False)],  # Right action: 90% move to (2,2) (goal), 10% stay in (2,1)\n",
        "        3: [(0.9, 4, -1, False), (0.1, 7, -1, False)],  # Up action: 90% move to (1,1), 10% stay in (2,1)\n",
        "    },\n",
        "    # State 8: Bottom-right (2,2) - Goal State\n",
        "    8: {\n",
        "        # No actions needed since this is the terminal state\n",
        "    }\n",
        "}\n"
      ],
      "metadata": {
        "id": "2uLDmXJ6RIon"
      },
      "execution_count": null,
      "outputs": []
    },
    {
      "cell_type": "code",
      "source": [
        "solver_mdp"
      ],
      "metadata": {
        "colab": {
          "base_uri": "https://localhost:8080/"
        },
        "id": "IGZddYJ9RLO8",
        "outputId": "1ee35c7d-b46a-467f-d052-210c24102808"
      },
      "execution_count": null,
      "outputs": [
        {
          "output_type": "execute_result",
          "data": {
            "text/plain": [
              "{0: {1: [(0.9, 1, -1, False), (0.1, 0, -1, False)],\n",
              "  2: [(0.9, 3, -1, False), (0.1, 0, -1, False)]},\n",
              " 1: {0: [(0.9, 0, -1, False), (0.1, 1, -1, False)],\n",
              "  1: [(0.9, 2, -1, False), (0.1, 1, -1, False)],\n",
              "  2: [(0.9, 4, -1, False), (0.1, 1, -1, False)]},\n",
              " 2: {0: [(0.9, 1, -1, False), (0.1, 2, -1, False)],\n",
              "  2: [(0.9, 5, -1, False), (0.1, 2, -1, False)]},\n",
              " 3: {1: [(0.9, 4, -1, False), (0.1, 3, -1, False)],\n",
              "  2: [(0.9, 6, -1, False), (0.1, 3, -1, False)],\n",
              "  3: [(0.9, 0, -1, False), (0.1, 3, -1, False)]},\n",
              " 4: {0: [(0.9, 3, -1, False), (0.1, 4, -1, False)],\n",
              "  1: [(0.9, 5, -1, False), (0.1, 4, -1, False)],\n",
              "  2: [(0.9, 7, -1, False), (0.1, 4, -1, False)],\n",
              "  3: [(0.9, 1, -1, False), (0.1, 4, -1, False)]},\n",
              " 5: {0: [(0.9, 4, -1, False), (0.1, 5, -1, False)],\n",
              "  2: [(0.9, 8, 100, True), (0.1, 5, -1, False)],\n",
              "  3: [(0.9, 2, -1, False), (0.1, 5, -1, False)]},\n",
              " 6: {1: [(0.9, 7, -1, False), (0.1, 6, -1, False)],\n",
              "  3: [(0.9, 3, -1, False), (0.1, 6, -1, False)]},\n",
              " 7: {0: [(0.9, 6, -1, False), (0.1, 7, -1, False)],\n",
              "  1: [(0.9, 8, 100, True), (0.1, 7, -1, False)],\n",
              "  3: [(0.9, 4, -1, False), (0.1, 7, -1, False)]},\n",
              " 8: {}}"
            ]
          },
          "metadata": {},
          "execution_count": 6
        }
      ]
    },
    {
      "cell_type": "code",
      "source": [],
      "metadata": {
        "id": "qO67Gz9URMhG"
      },
      "execution_count": null,
      "outputs": []
    }
  ]
}